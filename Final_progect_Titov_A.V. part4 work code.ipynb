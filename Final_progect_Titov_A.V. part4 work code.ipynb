{
 "cells": [
  {
   "cell_type": "markdown",
   "metadata": {},
   "source": [
    "https://www.kaggle.com/datasets/fedesoriano/stroke-prediction-dataset?resource=download\n",
    "\n",
    "Attribute Information:\n",
    "\n",
    "1) id: unique identifier\n",
    "\n",
    "2) gender: \"Male\", \"Female\" or \"Other\"\n",
    "\n",
    "3) age: age of the patient\n",
    "\n",
    "4) hypertension: 0 if the patient doesn't have hypertension, 1 if the patient has hypertension\n",
    "\n",
    "5) heart_disease: 0 if the patient doesn't have any heart diseases, 1 if the patient has a heart disease\n",
    "\n",
    "6) ever_married: \"No\" or \"Yes\"\n",
    "\n",
    "7) work_type: \"children\", \"Govt_jov\", \"Never_worked\", \"Private\" or \"Self-employed\"\n",
    "\n",
    "8) Residence_type: \"Rural\" or \"Urban\"\n",
    "\n",
    "9) avg_glucose_level: average glucose level in blood\n",
    "\n",
    "10) bmi: body mass index\n",
    "\n",
    "11) smoking_status: \"formerly smoked\", \"never smoked\", \"smokes\" or \"Unknown\"*\n",
    "\n",
    "12) stroke: 1 if the patient had a stroke or 0 if not\n",
    "\n",
    "*Note: \"Unknown\" in smoking_status means that the information is unavailable for this patient"
   ]
  },
  {
   "cell_type": "code",
   "execution_count": 1,
   "metadata": {},
   "outputs": [],
   "source": [
    "import numpy as np\n",
    "import pandas as pd\n",
    "import missingno as msno\n",
    "import matplotlib.pyplot as plt"
   ]
  },
  {
   "cell_type": "code",
   "execution_count": 2,
   "metadata": {},
   "outputs": [
    {
     "data": {
      "text/html": [
       "<div>\n",
       "<style scoped>\n",
       "    .dataframe tbody tr th:only-of-type {\n",
       "        vertical-align: middle;\n",
       "    }\n",
       "\n",
       "    .dataframe tbody tr th {\n",
       "        vertical-align: top;\n",
       "    }\n",
       "\n",
       "    .dataframe thead th {\n",
       "        text-align: right;\n",
       "    }\n",
       "</style>\n",
       "<table border=\"1\" class=\"dataframe\">\n",
       "  <thead>\n",
       "    <tr style=\"text-align: right;\">\n",
       "      <th></th>\n",
       "      <th>id</th>\n",
       "      <th>gender</th>\n",
       "      <th>age</th>\n",
       "      <th>hypertension</th>\n",
       "      <th>heart_disease</th>\n",
       "      <th>ever_married</th>\n",
       "      <th>work_type</th>\n",
       "      <th>Residence_type</th>\n",
       "      <th>avg_glucose_level</th>\n",
       "      <th>bmi</th>\n",
       "      <th>smoking_status</th>\n",
       "      <th>stroke</th>\n",
       "    </tr>\n",
       "  </thead>\n",
       "  <tbody>\n",
       "    <tr>\n",
       "      <th>0</th>\n",
       "      <td>9046</td>\n",
       "      <td>Male</td>\n",
       "      <td>67.0</td>\n",
       "      <td>0</td>\n",
       "      <td>1</td>\n",
       "      <td>Yes</td>\n",
       "      <td>Private</td>\n",
       "      <td>Urban</td>\n",
       "      <td>228.69</td>\n",
       "      <td>36.6</td>\n",
       "      <td>formerly smoked</td>\n",
       "      <td>1</td>\n",
       "    </tr>\n",
       "    <tr>\n",
       "      <th>1</th>\n",
       "      <td>51676</td>\n",
       "      <td>Female</td>\n",
       "      <td>61.0</td>\n",
       "      <td>0</td>\n",
       "      <td>0</td>\n",
       "      <td>Yes</td>\n",
       "      <td>Self-employed</td>\n",
       "      <td>Rural</td>\n",
       "      <td>202.21</td>\n",
       "      <td>NaN</td>\n",
       "      <td>never smoked</td>\n",
       "      <td>1</td>\n",
       "    </tr>\n",
       "    <tr>\n",
       "      <th>2</th>\n",
       "      <td>31112</td>\n",
       "      <td>Male</td>\n",
       "      <td>80.0</td>\n",
       "      <td>0</td>\n",
       "      <td>1</td>\n",
       "      <td>Yes</td>\n",
       "      <td>Private</td>\n",
       "      <td>Rural</td>\n",
       "      <td>105.92</td>\n",
       "      <td>32.5</td>\n",
       "      <td>never smoked</td>\n",
       "      <td>1</td>\n",
       "    </tr>\n",
       "    <tr>\n",
       "      <th>3</th>\n",
       "      <td>60182</td>\n",
       "      <td>Female</td>\n",
       "      <td>49.0</td>\n",
       "      <td>0</td>\n",
       "      <td>0</td>\n",
       "      <td>Yes</td>\n",
       "      <td>Private</td>\n",
       "      <td>Urban</td>\n",
       "      <td>171.23</td>\n",
       "      <td>34.4</td>\n",
       "      <td>smokes</td>\n",
       "      <td>1</td>\n",
       "    </tr>\n",
       "    <tr>\n",
       "      <th>4</th>\n",
       "      <td>1665</td>\n",
       "      <td>Female</td>\n",
       "      <td>79.0</td>\n",
       "      <td>1</td>\n",
       "      <td>0</td>\n",
       "      <td>Yes</td>\n",
       "      <td>Self-employed</td>\n",
       "      <td>Rural</td>\n",
       "      <td>174.12</td>\n",
       "      <td>24.0</td>\n",
       "      <td>never smoked</td>\n",
       "      <td>1</td>\n",
       "    </tr>\n",
       "    <tr>\n",
       "      <th>...</th>\n",
       "      <td>...</td>\n",
       "      <td>...</td>\n",
       "      <td>...</td>\n",
       "      <td>...</td>\n",
       "      <td>...</td>\n",
       "      <td>...</td>\n",
       "      <td>...</td>\n",
       "      <td>...</td>\n",
       "      <td>...</td>\n",
       "      <td>...</td>\n",
       "      <td>...</td>\n",
       "      <td>...</td>\n",
       "    </tr>\n",
       "    <tr>\n",
       "      <th>5105</th>\n",
       "      <td>18234</td>\n",
       "      <td>Female</td>\n",
       "      <td>80.0</td>\n",
       "      <td>1</td>\n",
       "      <td>0</td>\n",
       "      <td>Yes</td>\n",
       "      <td>Private</td>\n",
       "      <td>Urban</td>\n",
       "      <td>83.75</td>\n",
       "      <td>NaN</td>\n",
       "      <td>never smoked</td>\n",
       "      <td>0</td>\n",
       "    </tr>\n",
       "    <tr>\n",
       "      <th>5106</th>\n",
       "      <td>44873</td>\n",
       "      <td>Female</td>\n",
       "      <td>81.0</td>\n",
       "      <td>0</td>\n",
       "      <td>0</td>\n",
       "      <td>Yes</td>\n",
       "      <td>Self-employed</td>\n",
       "      <td>Urban</td>\n",
       "      <td>125.20</td>\n",
       "      <td>40.0</td>\n",
       "      <td>never smoked</td>\n",
       "      <td>0</td>\n",
       "    </tr>\n",
       "    <tr>\n",
       "      <th>5107</th>\n",
       "      <td>19723</td>\n",
       "      <td>Female</td>\n",
       "      <td>35.0</td>\n",
       "      <td>0</td>\n",
       "      <td>0</td>\n",
       "      <td>Yes</td>\n",
       "      <td>Self-employed</td>\n",
       "      <td>Rural</td>\n",
       "      <td>82.99</td>\n",
       "      <td>30.6</td>\n",
       "      <td>never smoked</td>\n",
       "      <td>0</td>\n",
       "    </tr>\n",
       "    <tr>\n",
       "      <th>5108</th>\n",
       "      <td>37544</td>\n",
       "      <td>Male</td>\n",
       "      <td>51.0</td>\n",
       "      <td>0</td>\n",
       "      <td>0</td>\n",
       "      <td>Yes</td>\n",
       "      <td>Private</td>\n",
       "      <td>Rural</td>\n",
       "      <td>166.29</td>\n",
       "      <td>25.6</td>\n",
       "      <td>formerly smoked</td>\n",
       "      <td>0</td>\n",
       "    </tr>\n",
       "    <tr>\n",
       "      <th>5109</th>\n",
       "      <td>44679</td>\n",
       "      <td>Female</td>\n",
       "      <td>44.0</td>\n",
       "      <td>0</td>\n",
       "      <td>0</td>\n",
       "      <td>Yes</td>\n",
       "      <td>Govt_job</td>\n",
       "      <td>Urban</td>\n",
       "      <td>85.28</td>\n",
       "      <td>26.2</td>\n",
       "      <td>Unknown</td>\n",
       "      <td>0</td>\n",
       "    </tr>\n",
       "  </tbody>\n",
       "</table>\n",
       "<p>5110 rows × 12 columns</p>\n",
       "</div>"
      ],
      "text/plain": [
       "         id  gender   age  hypertension  heart_disease ever_married  \\\n",
       "0      9046    Male  67.0             0              1          Yes   \n",
       "1     51676  Female  61.0             0              0          Yes   \n",
       "2     31112    Male  80.0             0              1          Yes   \n",
       "3     60182  Female  49.0             0              0          Yes   \n",
       "4      1665  Female  79.0             1              0          Yes   \n",
       "...     ...     ...   ...           ...            ...          ...   \n",
       "5105  18234  Female  80.0             1              0          Yes   \n",
       "5106  44873  Female  81.0             0              0          Yes   \n",
       "5107  19723  Female  35.0             0              0          Yes   \n",
       "5108  37544    Male  51.0             0              0          Yes   \n",
       "5109  44679  Female  44.0             0              0          Yes   \n",
       "\n",
       "          work_type Residence_type  avg_glucose_level   bmi   smoking_status  \\\n",
       "0           Private          Urban             228.69  36.6  formerly smoked   \n",
       "1     Self-employed          Rural             202.21   NaN     never smoked   \n",
       "2           Private          Rural             105.92  32.5     never smoked   \n",
       "3           Private          Urban             171.23  34.4           smokes   \n",
       "4     Self-employed          Rural             174.12  24.0     never smoked   \n",
       "...             ...            ...                ...   ...              ...   \n",
       "5105        Private          Urban              83.75   NaN     never smoked   \n",
       "5106  Self-employed          Urban             125.20  40.0     never smoked   \n",
       "5107  Self-employed          Rural              82.99  30.6     never smoked   \n",
       "5108        Private          Rural             166.29  25.6  formerly smoked   \n",
       "5109       Govt_job          Urban              85.28  26.2          Unknown   \n",
       "\n",
       "      stroke  \n",
       "0          1  \n",
       "1          1  \n",
       "2          1  \n",
       "3          1  \n",
       "4          1  \n",
       "...      ...  \n",
       "5105       0  \n",
       "5106       0  \n",
       "5107       0  \n",
       "5108       0  \n",
       "5109       0  \n",
       "\n",
       "[5110 rows x 12 columns]"
      ]
     },
     "execution_count": 2,
     "metadata": {},
     "output_type": "execute_result"
    }
   ],
   "source": [
    "data = pd.read_csv('healthcare-dataset-stroke-data.csv')\n",
    "# data.info()\n",
    "data"
   ]
  },
  {
   "cell_type": "code",
   "execution_count": 3,
   "metadata": {},
   "outputs": [],
   "source": [
    "#перетворюємо данні в числові для подальшої роботи\n",
    "#2. data['gender'] стать перетворюємо жінки, інші = 0 ; чоловіки =1 \n",
    "#(інші == жінки, адже жінок більше у вибірці, більша ймовірність що та особа саме тієї статі)\n",
    "data['Int_Gender'] = np.where(data['gender'] == 'Male', 1, 0)\n",
    "\n",
    "#6 data['ever_married'] Чи був колись одружений? перетворюєм в числові Так == 1; Ні == 0\n",
    "data['Int_Ever_Married'] = np.where(data['ever_married'] == 'Yes', 1, 0) \n",
    "\n",
    "#8 data['Residence_type'] місце проживання місто == 0, село == 1\n",
    "data['Int_Residence_type'] = np.where(data['Residence_type'] == 'Rural', 1, 0)"
   ]
  },
  {
   "cell_type": "code",
   "execution_count": 4,
   "metadata": {},
   "outputs": [],
   "source": [
    "def func3_2(elem):\n",
    "    if elem == 'Never_worked' or elem == 'children':\n",
    "        return 'Never_worked'\n",
    "    \n",
    "    if elem == 'Private' or elem == 'Govt_job':\n",
    "        return 'Company_worker'\n",
    "    \n",
    "    if elem == 'Self-employed':\n",
    "        return 'Self-employed'\n"
   ]
  },
  {
   "cell_type": "code",
   "execution_count": 5,
   "metadata": {},
   "outputs": [],
   "source": [
    "#7 data['work_type'] після аналізу впливу роботи на ризик інсульту, робюим 3 класи, в залежності від ризику інсульту\n",
    "data['Alt_Work_type'] = data['work_type'].apply(func3_2)"
   ]
  },
  {
   "cell_type": "code",
   "execution_count": 6,
   "metadata": {},
   "outputs": [],
   "source": [
    "#11 data['smoking_status'] Згідно данних ВООЗ в світі близько 13 % курців це відповідає тій кількості курців що є відомою,\n",
    "# тому осіб що не вказали про себе можна важати - не курцями\n",
    "# formerly smoked + smokes Не курець == 0; Курець == 1\n",
    "\n",
    "def func5(elem):\n",
    "    if elem == 'never smoked' or elem == 'Unknown':\n",
    "        return 0\n",
    "    else:\n",
    "        return 1"
   ]
  },
  {
   "cell_type": "code",
   "execution_count": 7,
   "metadata": {},
   "outputs": [
    {
     "data": {
      "text/plain": [
       "0    3436\n",
       "1    1674\n",
       "Name: Int_Smoking_status, dtype: int64"
      ]
     },
     "execution_count": 7,
     "metadata": {},
     "output_type": "execute_result"
    }
   ],
   "source": [
    "data['Int_Smoking_status'] = data['smoking_status'].apply(func5)\n",
    "data['Int_Smoking_status'].value_counts(dropna=False)"
   ]
  },
  {
   "cell_type": "code",
   "execution_count": 8,
   "metadata": {},
   "outputs": [],
   "source": [
    "# data"
   ]
  },
  {
   "cell_type": "code",
   "execution_count": 9,
   "metadata": {},
   "outputs": [],
   "source": [
    "# data.columns"
   ]
  },
  {
   "cell_type": "code",
   "execution_count": 10,
   "metadata": {},
   "outputs": [
    {
     "data": {
      "text/html": [
       "<div>\n",
       "<style scoped>\n",
       "    .dataframe tbody tr th:only-of-type {\n",
       "        vertical-align: middle;\n",
       "    }\n",
       "\n",
       "    .dataframe tbody tr th {\n",
       "        vertical-align: top;\n",
       "    }\n",
       "\n",
       "    .dataframe thead th {\n",
       "        text-align: right;\n",
       "    }\n",
       "</style>\n",
       "<table border=\"1\" class=\"dataframe\">\n",
       "  <thead>\n",
       "    <tr style=\"text-align: right;\">\n",
       "      <th></th>\n",
       "      <th>Int_Gender</th>\n",
       "      <th>age</th>\n",
       "      <th>hypertension</th>\n",
       "      <th>heart_disease</th>\n",
       "      <th>Int_Ever_Married</th>\n",
       "      <th>Alt_Work_type</th>\n",
       "      <th>Int_Residence_type</th>\n",
       "      <th>avg_glucose_level</th>\n",
       "      <th>bmi</th>\n",
       "      <th>Int_Smoking_status</th>\n",
       "      <th>stroke</th>\n",
       "    </tr>\n",
       "  </thead>\n",
       "  <tbody>\n",
       "    <tr>\n",
       "      <th>0</th>\n",
       "      <td>1</td>\n",
       "      <td>67.0</td>\n",
       "      <td>0</td>\n",
       "      <td>1</td>\n",
       "      <td>1</td>\n",
       "      <td>Company_worker</td>\n",
       "      <td>0</td>\n",
       "      <td>228.69</td>\n",
       "      <td>36.6</td>\n",
       "      <td>1</td>\n",
       "      <td>1</td>\n",
       "    </tr>\n",
       "    <tr>\n",
       "      <th>1</th>\n",
       "      <td>0</td>\n",
       "      <td>61.0</td>\n",
       "      <td>0</td>\n",
       "      <td>0</td>\n",
       "      <td>1</td>\n",
       "      <td>Self-employed</td>\n",
       "      <td>1</td>\n",
       "      <td>202.21</td>\n",
       "      <td>NaN</td>\n",
       "      <td>0</td>\n",
       "      <td>1</td>\n",
       "    </tr>\n",
       "    <tr>\n",
       "      <th>2</th>\n",
       "      <td>1</td>\n",
       "      <td>80.0</td>\n",
       "      <td>0</td>\n",
       "      <td>1</td>\n",
       "      <td>1</td>\n",
       "      <td>Company_worker</td>\n",
       "      <td>1</td>\n",
       "      <td>105.92</td>\n",
       "      <td>32.5</td>\n",
       "      <td>0</td>\n",
       "      <td>1</td>\n",
       "    </tr>\n",
       "    <tr>\n",
       "      <th>3</th>\n",
       "      <td>0</td>\n",
       "      <td>49.0</td>\n",
       "      <td>0</td>\n",
       "      <td>0</td>\n",
       "      <td>1</td>\n",
       "      <td>Company_worker</td>\n",
       "      <td>0</td>\n",
       "      <td>171.23</td>\n",
       "      <td>34.4</td>\n",
       "      <td>1</td>\n",
       "      <td>1</td>\n",
       "    </tr>\n",
       "    <tr>\n",
       "      <th>4</th>\n",
       "      <td>0</td>\n",
       "      <td>79.0</td>\n",
       "      <td>1</td>\n",
       "      <td>0</td>\n",
       "      <td>1</td>\n",
       "      <td>Self-employed</td>\n",
       "      <td>1</td>\n",
       "      <td>174.12</td>\n",
       "      <td>24.0</td>\n",
       "      <td>0</td>\n",
       "      <td>1</td>\n",
       "    </tr>\n",
       "    <tr>\n",
       "      <th>...</th>\n",
       "      <td>...</td>\n",
       "      <td>...</td>\n",
       "      <td>...</td>\n",
       "      <td>...</td>\n",
       "      <td>...</td>\n",
       "      <td>...</td>\n",
       "      <td>...</td>\n",
       "      <td>...</td>\n",
       "      <td>...</td>\n",
       "      <td>...</td>\n",
       "      <td>...</td>\n",
       "    </tr>\n",
       "    <tr>\n",
       "      <th>5105</th>\n",
       "      <td>0</td>\n",
       "      <td>80.0</td>\n",
       "      <td>1</td>\n",
       "      <td>0</td>\n",
       "      <td>1</td>\n",
       "      <td>Company_worker</td>\n",
       "      <td>0</td>\n",
       "      <td>83.75</td>\n",
       "      <td>NaN</td>\n",
       "      <td>0</td>\n",
       "      <td>0</td>\n",
       "    </tr>\n",
       "    <tr>\n",
       "      <th>5106</th>\n",
       "      <td>0</td>\n",
       "      <td>81.0</td>\n",
       "      <td>0</td>\n",
       "      <td>0</td>\n",
       "      <td>1</td>\n",
       "      <td>Self-employed</td>\n",
       "      <td>0</td>\n",
       "      <td>125.20</td>\n",
       "      <td>40.0</td>\n",
       "      <td>0</td>\n",
       "      <td>0</td>\n",
       "    </tr>\n",
       "    <tr>\n",
       "      <th>5107</th>\n",
       "      <td>0</td>\n",
       "      <td>35.0</td>\n",
       "      <td>0</td>\n",
       "      <td>0</td>\n",
       "      <td>1</td>\n",
       "      <td>Self-employed</td>\n",
       "      <td>1</td>\n",
       "      <td>82.99</td>\n",
       "      <td>30.6</td>\n",
       "      <td>0</td>\n",
       "      <td>0</td>\n",
       "    </tr>\n",
       "    <tr>\n",
       "      <th>5108</th>\n",
       "      <td>1</td>\n",
       "      <td>51.0</td>\n",
       "      <td>0</td>\n",
       "      <td>0</td>\n",
       "      <td>1</td>\n",
       "      <td>Company_worker</td>\n",
       "      <td>1</td>\n",
       "      <td>166.29</td>\n",
       "      <td>25.6</td>\n",
       "      <td>1</td>\n",
       "      <td>0</td>\n",
       "    </tr>\n",
       "    <tr>\n",
       "      <th>5109</th>\n",
       "      <td>0</td>\n",
       "      <td>44.0</td>\n",
       "      <td>0</td>\n",
       "      <td>0</td>\n",
       "      <td>1</td>\n",
       "      <td>Company_worker</td>\n",
       "      <td>0</td>\n",
       "      <td>85.28</td>\n",
       "      <td>26.2</td>\n",
       "      <td>0</td>\n",
       "      <td>0</td>\n",
       "    </tr>\n",
       "  </tbody>\n",
       "</table>\n",
       "<p>5110 rows × 11 columns</p>\n",
       "</div>"
      ],
      "text/plain": [
       "      Int_Gender   age  hypertension  heart_disease  Int_Ever_Married  \\\n",
       "0              1  67.0             0              1                 1   \n",
       "1              0  61.0             0              0                 1   \n",
       "2              1  80.0             0              1                 1   \n",
       "3              0  49.0             0              0                 1   \n",
       "4              0  79.0             1              0                 1   \n",
       "...          ...   ...           ...            ...               ...   \n",
       "5105           0  80.0             1              0                 1   \n",
       "5106           0  81.0             0              0                 1   \n",
       "5107           0  35.0             0              0                 1   \n",
       "5108           1  51.0             0              0                 1   \n",
       "5109           0  44.0             0              0                 1   \n",
       "\n",
       "       Alt_Work_type  Int_Residence_type  avg_glucose_level   bmi  \\\n",
       "0     Company_worker                   0             228.69  36.6   \n",
       "1      Self-employed                   1             202.21   NaN   \n",
       "2     Company_worker                   1             105.92  32.5   \n",
       "3     Company_worker                   0             171.23  34.4   \n",
       "4      Self-employed                   1             174.12  24.0   \n",
       "...              ...                 ...                ...   ...   \n",
       "5105  Company_worker                   0              83.75   NaN   \n",
       "5106   Self-employed                   0             125.20  40.0   \n",
       "5107   Self-employed                   1              82.99  30.6   \n",
       "5108  Company_worker                   1             166.29  25.6   \n",
       "5109  Company_worker                   0              85.28  26.2   \n",
       "\n",
       "      Int_Smoking_status  stroke  \n",
       "0                      1       1  \n",
       "1                      0       1  \n",
       "2                      0       1  \n",
       "3                      1       1  \n",
       "4                      0       1  \n",
       "...                  ...     ...  \n",
       "5105                   0       0  \n",
       "5106                   0       0  \n",
       "5107                   0       0  \n",
       "5108                   1       0  \n",
       "5109                   0       0  \n",
       "\n",
       "[5110 rows x 11 columns]"
      ]
     },
     "execution_count": 10,
     "metadata": {},
     "output_type": "execute_result"
    }
   ],
   "source": [
    "#сгрупував данні/перетворив, та інше - вручну\n",
    "\n",
    "data_mod = data[['Int_Gender', 'age', 'hypertension', 'heart_disease', 'Int_Ever_Married', 'Alt_Work_type', 'Int_Residence_type', 'avg_glucose_level', 'bmi', 'Int_Smoking_status',\n",
    "             'stroke']].copy()\n",
    "# data_mod.info()\n",
    "data_mod"
   ]
  },
  {
   "cell_type": "code",
   "execution_count": 11,
   "metadata": {},
   "outputs": [],
   "source": [
    "data_mod2 = data[['stroke','gender', 'age', 'hypertension', 'heart_disease', 'Int_Ever_Married',\n",
    "       'work_type', 'Residence_type', 'avg_glucose_level', 'bmi',\n",
    "       'smoking_status']].copy()\n",
    "# data_mod2"
   ]
  },
  {
   "cell_type": "code",
   "execution_count": 12,
   "metadata": {},
   "outputs": [],
   "source": [
    "# data.columns"
   ]
  },
  {
   "cell_type": "code",
   "execution_count": 13,
   "metadata": {},
   "outputs": [
    {
     "data": {
      "text/plain": [
       "0"
      ]
     },
     "execution_count": 13,
     "metadata": {},
     "output_type": "execute_result"
    }
   ],
   "source": [
    "# замінимо всі пропуски bmi на медіанні значення\n",
    "\n",
    "data['bmi'].fillna(data['bmi'].median(), inplace = True)\n",
    "data['bmi'].isna().sum()"
   ]
  },
  {
   "cell_type": "code",
   "execution_count": 14,
   "metadata": {},
   "outputs": [],
   "source": [
    "# data.describe()"
   ]
  },
  {
   "cell_type": "markdown",
   "metadata": {},
   "source": [
    "# Побудова Моделей"
   ]
  },
  {
   "cell_type": "markdown",
   "metadata": {},
   "source": [
    "Беремо не змінені ніяк данні + лише заповнені пробіли"
   ]
  },
  {
   "cell_type": "code",
   "execution_count": 15,
   "metadata": {},
   "outputs": [],
   "source": [
    "# data.columns"
   ]
  },
  {
   "cell_type": "code",
   "execution_count": 16,
   "metadata": {},
   "outputs": [],
   "source": [
    "Data_1 = data[['gender', 'age', 'hypertension', 'heart_disease', 'ever_married',\n",
    "       'work_type', 'Residence_type', 'avg_glucose_level', 'bmi',\n",
    "       'smoking_status', 'stroke']].copy()\n",
    "# Data_1"
   ]
  },
  {
   "cell_type": "markdown",
   "metadata": {},
   "source": [
    "В нас присутній дисбаланс данних що негативно впливає на визначення пацієнтів з інсультом, штучно збільшимо кількість пацієнтів з інсультом"
   ]
  },
  {
   "cell_type": "code",
   "execution_count": 17,
   "metadata": {},
   "outputs": [
    {
     "data": {
      "text/plain": [
       "(498, 11)"
      ]
     },
     "execution_count": 17,
     "metadata": {},
     "output_type": "execute_result"
    }
   ],
   "source": [
    "Data_1 = Data_1.sample(frac=1)\n",
    "\n",
    "fraud_Data_1 = Data_1.loc[Data_1['stroke'] == 1]\n",
    "non_fraud_Data_1 = Data_1.loc[Data_1['stroke'] == 0][:len(fraud_Data_1)]\n",
    "\n",
    "normal_distributed_Data_1 = pd.concat([fraud_Data_1, non_fraud_Data_1])\n",
    "new_Data_1 = normal_distributed_Data_1.sample(frac=1, random_state=42)\n",
    "\n",
    "new_Data_1.shape"
   ]
  },
  {
   "cell_type": "markdown",
   "metadata": {},
   "source": [
    "Розділення данних на тренувальні та тестувальні"
   ]
  },
  {
   "cell_type": "code",
   "execution_count": 18,
   "metadata": {},
   "outputs": [
    {
     "name": "stdout",
     "output_type": "stream",
     "text": [
      "The size of training data is: 398 \n",
      "The size of testing data is: 100\n"
     ]
    }
   ],
   "source": [
    "from sklearn.model_selection import train_test_split\n",
    "\n",
    "train_data, test_data = train_test_split(new_Data_1, test_size=0.20, random_state=20)\n",
    "print('The size of training data is: {} \\nThe size of testing data is: {}'.format(len(train_data), len(test_data)))"
   ]
  },
  {
   "cell_type": "code",
   "execution_count": 19,
   "metadata": {},
   "outputs": [],
   "source": [
    "# train_data.columns"
   ]
  },
  {
   "cell_type": "markdown",
   "metadata": {},
   "source": [
    "Розділяєм данні, виділяєм таргет"
   ]
  },
  {
   "cell_type": "code",
   "execution_count": 20,
   "metadata": {},
   "outputs": [],
   "source": [
    "X_train = train_data.drop(['stroke'], axis=1)\n",
    "y_train = train_data['stroke']\n",
    "\n",
    "X_test = test_data.drop(['stroke'], axis=1)\n",
    "y_test = test_data['stroke']\n"
   ]
  },
  {
   "cell_type": "markdown",
   "metadata": {},
   "source": [
    "Перетворення данних"
   ]
  },
  {
   "cell_type": "code",
   "execution_count": 21,
   "metadata": {},
   "outputs": [
    {
     "name": "stdout",
     "output_type": "stream",
     "text": [
      "['Female' 'Male'] == [0, 1]\n",
      "0    226\n",
      "1    172\n",
      "Name: gender, dtype: int64\n",
      "['No' 'Yes'] == [0, 1]\n",
      "1    296\n",
      "0    102\n",
      "Name: ever_married, dtype: int64\n",
      "['Unknown' 'formerly smoked' 'never smoked' 'smokes'] == [0, 1, 2, 3]\n",
      "2    135\n",
      "0    116\n",
      "1     85\n",
      "3     62\n",
      "Name: smoking_status, dtype: int64\n",
      "['Govt_job' 'Never_worked' 'Private' 'Self-employed' 'children'] == [0, 1, 2, 3, 4]\n",
      "2    219\n",
      "3     86\n",
      "0     58\n",
      "4     34\n",
      "1      1\n",
      "Name: work_type, dtype: int64\n",
      "['Rural' 'Urban'] == [0, 1]\n",
      "1    216\n",
      "0    182\n",
      "Name: Residence_type, dtype: int64\n"
     ]
    }
   ],
   "source": [
    "# Перетворим категорійні данні за допомогою sklearn  LabelEncoder в циферкі\n",
    "from sklearn import preprocessing\n",
    "\n",
    "X_train_prepared=X_train.copy()\n",
    "X_test_prepared=X_test.copy()\n",
    "\n",
    "col = ['gender', 'ever_married', 'smoking_status', 'work_type','Residence_type']\n",
    "LE = preprocessing.LabelEncoder()\n",
    "for i in col:\n",
    "    X_train_prepared[i]=X_train_prepared[[i]].apply(LE.fit_transform)\n",
    "    X_test_prepared[i]=X_test_prepared[[i]].apply(LE.transform)\n",
    "    \n",
    "    print(LE.inverse_transform(list(set(X_train_prepared[i]))),'==', list(set(X_train_prepared[i]))) \n",
    "    print(X_train_prepared[i].value_counts(dropna=False))               \n",
    "              \n"
   ]
  },
  {
   "cell_type": "markdown",
   "metadata": {},
   "source": [
    "Стандартизація набору даних"
   ]
  },
  {
   "cell_type": "code",
   "execution_count": 22,
   "metadata": {},
   "outputs": [],
   "source": [
    "# маєм викиди тому використаємо RobustScaler\n",
    "from sklearn.preprocessing import RobustScaler\n",
    "rob_scaler = RobustScaler()\n",
    "\n",
    "X_train_rob_scaler=rob_scaler.fit_transform(X_train_prepared)\n",
    "X_test_rob_scaler=rob_scaler.transform(X_test_prepared)\n",
    "\n"
   ]
  },
  {
   "cell_type": "markdown",
   "metadata": {},
   "source": [
    "# Піднімаєм ставки, використаєм нейронну мережу!"
   ]
  },
  {
   "cell_type": "code",
   "execution_count": 23,
   "metadata": {},
   "outputs": [],
   "source": [
    "import torch\n",
    "import torch.nn as nn\n",
    "import torch.optim as optim\n",
    "from torch.utils.data import Dataset, DataLoader"
   ]
  },
  {
   "cell_type": "code",
   "execution_count": 24,
   "metadata": {},
   "outputs": [],
   "source": [
    "X_train = X_train_rob_scaler\n",
    "X_test = X_test_rob_scaler"
   ]
  },
  {
   "cell_type": "code",
   "execution_count": 25,
   "metadata": {},
   "outputs": [],
   "source": [
    "class BinaryClassification(nn.Module):\n",
    "    def __init__(self):\n",
    "        super(BinaryClassification, self).__init__()\n",
    "        self.layer_1 = nn.Linear(10, 64)\n",
    "        self.layer_out = nn.Linear(64, 1)\n",
    "\n",
    "        self.relu = nn.ReLU()\n",
    "        self.sigmoid = nn.Sigmoid()\n",
    "\n",
    "    def forward(self, inputs):\n",
    "        x = self.relu(self.layer_1(inputs))\n",
    "        x = self.layer_out(x)\n",
    "\n",
    "        x = self.sigmoid(x)\n",
    "        return x"
   ]
  },
  {
   "cell_type": "code",
   "execution_count": 26,
   "metadata": {},
   "outputs": [
    {
     "name": "stdout",
     "output_type": "stream",
     "text": [
      "cpu\n"
     ]
    }
   ],
   "source": [
    "device = torch.device(\"cpu\")\n",
    "print(device)"
   ]
  },
  {
   "cell_type": "code",
   "execution_count": 27,
   "metadata": {},
   "outputs": [
    {
     "name": "stdout",
     "output_type": "stream",
     "text": [
      "BinaryClassification(\n",
      "  (layer_1): Linear(in_features=10, out_features=64, bias=True)\n",
      "  (layer_out): Linear(in_features=64, out_features=1, bias=True)\n",
      "  (relu): ReLU()\n",
      "  (sigmoid): Sigmoid()\n",
      ")\n"
     ]
    }
   ],
   "source": [
    "model = BinaryClassification()\n",
    "model.to(device)\n",
    "\n",
    "print(model)"
   ]
  },
  {
   "cell_type": "code",
   "execution_count": 28,
   "metadata": {},
   "outputs": [],
   "source": [
    "criterion = nn.BCELoss()\n",
    "optimizer = optim.Adam(model.parameters(), lr=0.001)"
   ]
  },
  {
   "cell_type": "code",
   "execution_count": 29,
   "metadata": {},
   "outputs": [],
   "source": [
    "def binary_acc(y_pred, y_test):\n",
    "    y_pred_tag = torch.round(y_pred)\n",
    "\n",
    "    correct_results_sum = (y_pred_tag == y_test).sum().float()\n",
    "    acc = correct_results_sum/y_test.shape[0]\n",
    "    acc = torch.round(acc * 100)\n",
    "\n",
    "    return acc"
   ]
  },
  {
   "cell_type": "code",
   "execution_count": 30,
   "metadata": {},
   "outputs": [],
   "source": [
    "# тренуєм \n",
    "X_train = torch.FloatTensor(X_train)\n",
    "y_train = torch.FloatTensor(y_train)\n",
    "\n",
    "X_train, y_train = X_train.to(device), y_train.to(device)"
   ]
  },
  {
   "cell_type": "markdown",
   "metadata": {},
   "source": [
    "# ValueError: could not determine the shape of object type 'Series'"
   ]
  },
  {
   "cell_type": "code",
   "execution_count": 31,
   "metadata": {
    "scrolled": true
   },
   "outputs": [
    {
     "name": "stdout",
     "output_type": "stream",
     "text": [
      "Epoch 001: | Loss: 0.69655 | Acc: 51.000\n",
      "Epoch 002: | Loss: 0.69407 | Acc: 52.000\n",
      "Epoch 003: | Loss: 0.69162 | Acc: 53.000\n",
      "Epoch 004: | Loss: 0.68921 | Acc: 54.000\n",
      "Epoch 005: | Loss: 0.68682 | Acc: 54.000\n",
      "Epoch 006: | Loss: 0.68446 | Acc: 55.000\n",
      "Epoch 007: | Loss: 0.68213 | Acc: 56.000\n",
      "Epoch 008: | Loss: 0.67984 | Acc: 57.000\n",
      "Epoch 009: | Loss: 0.67757 | Acc: 59.000\n",
      "Epoch 010: | Loss: 0.67534 | Acc: 60.000\n",
      "Epoch 011: | Loss: 0.67312 | Acc: 60.000\n",
      "Epoch 012: | Loss: 0.67092 | Acc: 62.000\n",
      "Epoch 013: | Loss: 0.66875 | Acc: 62.000\n",
      "Epoch 014: | Loss: 0.66660 | Acc: 63.000\n",
      "Epoch 015: | Loss: 0.66447 | Acc: 63.000\n",
      "Epoch 016: | Loss: 0.66236 | Acc: 63.000\n",
      "Epoch 017: | Loss: 0.66026 | Acc: 63.000\n",
      "Epoch 018: | Loss: 0.65819 | Acc: 65.000\n",
      "Epoch 019: | Loss: 0.65612 | Acc: 65.000\n",
      "Epoch 020: | Loss: 0.65408 | Acc: 66.000\n",
      "Epoch 021: | Loss: 0.65205 | Acc: 67.000\n",
      "Epoch 022: | Loss: 0.65002 | Acc: 68.000\n",
      "Epoch 023: | Loss: 0.64802 | Acc: 68.000\n",
      "Epoch 024: | Loss: 0.64602 | Acc: 67.000\n",
      "Epoch 025: | Loss: 0.64403 | Acc: 68.000\n",
      "Epoch 026: | Loss: 0.64205 | Acc: 68.000\n",
      "Epoch 027: | Loss: 0.64007 | Acc: 69.000\n",
      "Epoch 028: | Loss: 0.63810 | Acc: 69.000\n",
      "Epoch 029: | Loss: 0.63613 | Acc: 70.000\n",
      "Epoch 030: | Loss: 0.63416 | Acc: 70.000\n",
      "Epoch 031: | Loss: 0.63220 | Acc: 71.000\n",
      "Epoch 032: | Loss: 0.63023 | Acc: 72.000\n",
      "Epoch 033: | Loss: 0.62825 | Acc: 72.000\n",
      "Epoch 034: | Loss: 0.62628 | Acc: 73.000\n",
      "Epoch 035: | Loss: 0.62430 | Acc: 73.000\n",
      "Epoch 036: | Loss: 0.62233 | Acc: 73.000\n",
      "Epoch 037: | Loss: 0.62036 | Acc: 74.000\n",
      "Epoch 038: | Loss: 0.61838 | Acc: 74.000\n",
      "Epoch 039: | Loss: 0.61640 | Acc: 74.000\n",
      "Epoch 040: | Loss: 0.61442 | Acc: 74.000\n",
      "Epoch 041: | Loss: 0.61245 | Acc: 74.000\n",
      "Epoch 042: | Loss: 0.61047 | Acc: 74.000\n",
      "Epoch 043: | Loss: 0.60849 | Acc: 74.000\n",
      "Epoch 044: | Loss: 0.60651 | Acc: 74.000\n",
      "Epoch 045: | Loss: 0.60453 | Acc: 75.000\n",
      "Epoch 046: | Loss: 0.60255 | Acc: 74.000\n",
      "Epoch 047: | Loss: 0.60057 | Acc: 74.000\n",
      "Epoch 048: | Loss: 0.59858 | Acc: 74.000\n",
      "Epoch 049: | Loss: 0.59660 | Acc: 74.000\n",
      "Epoch 050: | Loss: 0.59462 | Acc: 75.000\n"
     ]
    }
   ],
   "source": [
    "model.train()\n",
    "\n",
    "for e in range(1, 51):\n",
    "    epoch_loss = 0\n",
    "    epoch_acc = 0\n",
    "\n",
    "    optimizer.zero_grad()\n",
    "\n",
    "    y_pred = model(X_train)\n",
    "    loss = criterion(y_pred, y_train.unsqueeze(1))\n",
    "    acc = binary_acc(y_pred, y_train.unsqueeze(1))\n",
    "\n",
    "    loss.backward()\n",
    "    optimizer.step()\n",
    "\n",
    "    epoch_loss = loss.item()\n",
    "    epoch_acc = acc.item()\n",
    "\n",
    "    print(f'Epoch {e+0:03}: | Loss: {epoch_loss:.5f} | Acc: {epoch_acc:.3f}')"
   ]
  },
  {
   "cell_type": "markdown",
   "metadata": {},
   "source": [
    "Результати"
   ]
  },
  {
   "cell_type": "code",
   "execution_count": 32,
   "metadata": {
    "scrolled": true
   },
   "outputs": [
    {
     "data": {
      "text/plain": [
       "[1.0,\n",
       " 0.0,\n",
       " 1.0,\n",
       " 0.0,\n",
       " 0.0,\n",
       " 1.0,\n",
       " 0.0,\n",
       " 0.0,\n",
       " 0.0,\n",
       " 1.0,\n",
       " 1.0,\n",
       " 0.0,\n",
       " 0.0,\n",
       " 0.0,\n",
       " 0.0,\n",
       " 1.0,\n",
       " 1.0,\n",
       " 1.0,\n",
       " 1.0,\n",
       " 0.0,\n",
       " 0.0,\n",
       " 0.0,\n",
       " 0.0,\n",
       " 1.0,\n",
       " 1.0,\n",
       " 0.0,\n",
       " 1.0,\n",
       " 0.0,\n",
       " 0.0,\n",
       " 0.0,\n",
       " 1.0,\n",
       " 1.0,\n",
       " 0.0,\n",
       " 1.0,\n",
       " 1.0,\n",
       " 0.0,\n",
       " 1.0,\n",
       " 1.0,\n",
       " 0.0,\n",
       " 0.0,\n",
       " 1.0,\n",
       " 0.0,\n",
       " 1.0,\n",
       " 0.0,\n",
       " 1.0,\n",
       " 0.0,\n",
       " 1.0,\n",
       " 1.0,\n",
       " 0.0,\n",
       " 0.0,\n",
       " 1.0,\n",
       " 1.0,\n",
       " 1.0,\n",
       " 1.0,\n",
       " 1.0,\n",
       " 0.0,\n",
       " 1.0,\n",
       " 0.0,\n",
       " 1.0,\n",
       " 1.0,\n",
       " 1.0,\n",
       " 1.0,\n",
       " 0.0,\n",
       " 0.0,\n",
       " 0.0,\n",
       " 0.0,\n",
       " 1.0,\n",
       " 1.0,\n",
       " 0.0,\n",
       " 0.0,\n",
       " 1.0,\n",
       " 0.0,\n",
       " 1.0,\n",
       " 1.0,\n",
       " 0.0,\n",
       " 1.0,\n",
       " 0.0,\n",
       " 1.0,\n",
       " 0.0,\n",
       " 0.0,\n",
       " 1.0,\n",
       " 1.0,\n",
       " 0.0,\n",
       " 1.0,\n",
       " 1.0,\n",
       " 0.0,\n",
       " 1.0,\n",
       " 0.0,\n",
       " 0.0,\n",
       " 1.0,\n",
       " 0.0,\n",
       " 0.0,\n",
       " 1.0,\n",
       " 1.0,\n",
       " 1.0,\n",
       " 0.0,\n",
       " 1.0,\n",
       " 0.0,\n",
       " 0.0,\n",
       " 0.0]"
      ]
     },
     "execution_count": 32,
     "metadata": {},
     "output_type": "execute_result"
    }
   ],
   "source": [
    "X_test = torch.FloatTensor(X_test)\n",
    "y_test = torch.FloatTensor(y_test.to_numpy())\n",
    "\n",
    "X_test = X_test.to(device)\n",
    "\n",
    "\n",
    "y_pred_list = []\n",
    "model.eval()\n",
    "\n",
    "with torch.no_grad():\n",
    "    y_test_pred = model(X_test)\n",
    "    y_pred_tag = torch.round(y_test_pred)\n",
    "    y_pred_list.append(y_pred_tag.cpu().numpy())\n",
    "\n",
    "y_pred_list = [a.squeeze().tolist() for a in y_pred_list][0]\n",
    "y_pred_list"
   ]
  },
  {
   "cell_type": "code",
   "execution_count": 33,
   "metadata": {},
   "outputs": [
    {
     "name": "stdout",
     "output_type": "stream",
     "text": [
      "Accuracy =  71.0 %\n",
      "[[35 14]\n",
      " [15 36]]\n",
      "              precision    recall  f1-score   support\n",
      "\n",
      "         0.0       0.70      0.71      0.71        49\n",
      "         1.0       0.72      0.71      0.71        51\n",
      "\n",
      "    accuracy                           0.71       100\n",
      "   macro avg       0.71      0.71      0.71       100\n",
      "weighted avg       0.71      0.71      0.71       100\n",
      "\n"
     ]
    }
   ],
   "source": [
    "from sklearn.metrics import accuracy_score, confusion_matrix, classification_report\n",
    "\n",
    "cm = confusion_matrix(y_test, y_pred_list)\n",
    "acc = accuracy_score(y_test, y_pred_list)\n",
    "report = classification_report(y_test, y_pred_list)\n",
    "\n",
    "print('Accuracy = ', acc * 100, '%')\n",
    "print(cm)\n",
    "print(report)"
   ]
  },
  {
   "cell_type": "markdown",
   "metadata": {},
   "source": [
    "# Тренування за допомогою batch size"
   ]
  },
  {
   "cell_type": "code",
   "execution_count": 34,
   "metadata": {},
   "outputs": [],
   "source": [
    "class TrainData(Dataset):\n",
    "\n",
    "    def __init__(self, X_data, y_data):\n",
    "        self.X_data = X_data\n",
    "        self.y_data = y_data\n",
    "\n",
    "    def __getitem__(self, index):\n",
    "        return self.X_data[index], self.y_data[index]\n",
    "\n",
    "    def __len__(self):\n",
    "        return len(self.X_data)\n",
    "\n",
    "\n",
    "train_data = TrainData(torch.FloatTensor(X_train),\n",
    "                       torch.FloatTensor(y_train))\n",
    "\n",
    "\n",
    "class TestData(Dataset):\n",
    "\n",
    "    def __init__(self, X_data):\n",
    "        self.X_data = X_data\n",
    "\n",
    "    def __getitem__(self, index):\n",
    "        return self.X_data[index]\n",
    "\n",
    "    def __len__(self):\n",
    "        return len(self.X_data)\n",
    "\n",
    "\n",
    "test_data = TestData(torch.FloatTensor(X_test))\n",
    "\n",
    "train_loader = DataLoader(dataset=train_data, batch_size=64, shuffle=True)\n",
    "test_loader = DataLoader(dataset=test_data, batch_size=1)"
   ]
  },
  {
   "cell_type": "code",
   "execution_count": 35,
   "metadata": {},
   "outputs": [],
   "source": [
    "model = BinaryClassification()\n",
    "model.to(device)\n",
    "\n",
    "criterion = nn.BCEWithLogitsLoss()\n",
    "optimizer = optim.Adam(model.parameters(), lr=0.001)"
   ]
  },
  {
   "cell_type": "code",
   "execution_count": 36,
   "metadata": {
    "scrolled": true
   },
   "outputs": [
    {
     "name": "stdout",
     "output_type": "stream",
     "text": [
      "Epoch 001: | Loss: 0.73153 | Acc: 33.000\n",
      "Epoch 002: | Loss: 0.74098 | Acc: 40.571\n",
      "Epoch 003: | Loss: 0.72112 | Acc: 44.286\n",
      "Epoch 004: | Loss: 0.73270 | Acc: 53.286\n",
      "Epoch 005: | Loss: 0.72208 | Acc: 52.857\n",
      "Epoch 006: | Loss: 0.70705 | Acc: 51.429\n",
      "Epoch 007: | Loss: 0.70912 | Acc: 52.000\n",
      "Epoch 008: | Loss: 0.69856 | Acc: 51.571\n",
      "Epoch 009: | Loss: 0.70334 | Acc: 53.000\n",
      "Epoch 010: | Loss: 0.69849 | Acc: 52.000\n",
      "Epoch 011: | Loss: 0.69629 | Acc: 54.000\n",
      "Epoch 012: | Loss: 0.69008 | Acc: 53.571\n",
      "Epoch 013: | Loss: 0.67824 | Acc: 52.429\n",
      "Epoch 014: | Loss: 0.67852 | Acc: 56.714\n",
      "Epoch 015: | Loss: 0.66850 | Acc: 56.429\n",
      "Epoch 016: | Loss: 0.67730 | Acc: 60.857\n",
      "Epoch 017: | Loss: 0.67773 | Acc: 64.286\n",
      "Epoch 018: | Loss: 0.65909 | Acc: 59.286\n",
      "Epoch 019: | Loss: 0.66207 | Acc: 64.000\n",
      "Epoch 020: | Loss: 0.66277 | Acc: 66.429\n",
      "Epoch 021: | Loss: 0.66615 | Acc: 67.857\n",
      "Epoch 022: | Loss: 0.65568 | Acc: 72.429\n",
      "Epoch 023: | Loss: 0.65776 | Acc: 71.571\n",
      "Epoch 024: | Loss: 0.65824 | Acc: 71.000\n",
      "Epoch 025: | Loss: 0.63964 | Acc: 72.000\n",
      "Epoch 026: | Loss: 0.63794 | Acc: 70.857\n",
      "Epoch 027: | Loss: 0.64065 | Acc: 72.857\n",
      "Epoch 028: | Loss: 0.64479 | Acc: 74.000\n",
      "Epoch 029: | Loss: 0.64282 | Acc: 74.571\n",
      "Epoch 030: | Loss: 0.64175 | Acc: 73.286\n",
      "Epoch 031: | Loss: 0.63358 | Acc: 76.857\n",
      "Epoch 032: | Loss: 0.62944 | Acc: 77.429\n",
      "Epoch 033: | Loss: 0.63270 | Acc: 75.571\n",
      "Epoch 034: | Loss: 0.62297 | Acc: 76.714\n",
      "Epoch 035: | Loss: 0.61664 | Acc: 76.714\n",
      "Epoch 036: | Loss: 0.62271 | Acc: 77.000\n",
      "Epoch 037: | Loss: 0.62096 | Acc: 80.000\n",
      "Epoch 038: | Loss: 0.62740 | Acc: 78.286\n",
      "Epoch 039: | Loss: 0.62303 | Acc: 79.000\n",
      "Epoch 040: | Loss: 0.62253 | Acc: 75.714\n",
      "Epoch 041: | Loss: 0.61879 | Acc: 79.857\n",
      "Epoch 042: | Loss: 0.61189 | Acc: 76.571\n",
      "Epoch 043: | Loss: 0.62215 | Acc: 78.000\n",
      "Epoch 044: | Loss: 0.61571 | Acc: 79.571\n",
      "Epoch 045: | Loss: 0.61242 | Acc: 78.714\n",
      "Epoch 046: | Loss: 0.62016 | Acc: 78.857\n",
      "Epoch 047: | Loss: 0.60942 | Acc: 78.000\n",
      "Epoch 048: | Loss: 0.62441 | Acc: 77.714\n",
      "Epoch 049: | Loss: 0.61604 | Acc: 77.714\n",
      "Epoch 050: | Loss: 0.60995 | Acc: 75.857\n"
     ]
    }
   ],
   "source": [
    "model.train()\n",
    "\n",
    "for e in range(1, 51):\n",
    "    epoch_loss = 0\n",
    "    epoch_acc = 0\n",
    "    for X_batch, y_batch in train_loader:\n",
    "        X_batch, y_batch = X_batch.to(device), y_batch.to(device)\n",
    "        optimizer.zero_grad()\n",
    "\n",
    "        y_pred = model(X_batch)\n",
    "\n",
    "        loss = criterion(y_pred, y_batch.unsqueeze(1))\n",
    "        acc = binary_acc(y_pred, y_batch.unsqueeze(1))\n",
    "\n",
    "        loss.backward()\n",
    "        optimizer.step()\n",
    "\n",
    "        epoch_loss += loss.item()\n",
    "        epoch_acc += acc.item()\n",
    "\n",
    "    print(f'Epoch {e+0:03}: | Loss: {epoch_loss/len(train_loader):.5f} | Acc: {epoch_acc/len(train_loader):.3f}')"
   ]
  },
  {
   "cell_type": "code",
   "execution_count": 37,
   "metadata": {},
   "outputs": [],
   "source": [
    "y_pred_list = []\n",
    "model.eval()\n",
    "with torch.no_grad():\n",
    "    for X_batch in test_loader:\n",
    "        X_batch = X_batch.to(device)\n",
    "        y_test_pred = model(X_batch)\n",
    "        y_pred_tag = torch.round(y_test_pred)\n",
    "        y_pred_list.append(y_pred_tag.cpu().numpy())\n",
    "\n",
    "y_pred_list = [a.squeeze().tolist() for a in y_pred_list]\n",
    "# confusion_matrix(y_test, y_pred_list)"
   ]
  },
  {
   "cell_type": "code",
   "execution_count": 38,
   "metadata": {},
   "outputs": [
    {
     "name": "stdout",
     "output_type": "stream",
     "text": [
      "Accuracy =  72.0 %\n",
      "[[39 10]\n",
      " [18 33]]\n",
      "              precision    recall  f1-score   support\n",
      "\n",
      "         0.0       0.68      0.80      0.74        49\n",
      "         1.0       0.77      0.65      0.70        51\n",
      "\n",
      "    accuracy                           0.72       100\n",
      "   macro avg       0.73      0.72      0.72       100\n",
      "weighted avg       0.73      0.72      0.72       100\n",
      "\n"
     ]
    }
   ],
   "source": [
    "cm = confusion_matrix(y_test, y_pred_list)\n",
    "acc = accuracy_score(y_test, y_pred_list)\n",
    "report = classification_report(y_test, y_pred_list)\n",
    "\n",
    "print('Accuracy = ', acc * 100, '%')\n",
    "print(cm)\n",
    "print(report)"
   ]
  },
  {
   "cell_type": "code",
   "execution_count": null,
   "metadata": {},
   "outputs": [],
   "source": []
  },
  {
   "cell_type": "code",
   "execution_count": null,
   "metadata": {},
   "outputs": [],
   "source": []
  },
  {
   "cell_type": "code",
   "execution_count": null,
   "metadata": {},
   "outputs": [],
   "source": []
  },
  {
   "cell_type": "code",
   "execution_count": null,
   "metadata": {},
   "outputs": [],
   "source": []
  },
  {
   "cell_type": "code",
   "execution_count": null,
   "metadata": {},
   "outputs": [],
   "source": []
  },
  {
   "cell_type": "markdown",
   "metadata": {},
   "source": [
    "Задля того щоб розпізнавати всіх пацієнтів з інсультом, треба дуже сильно змістити алгоритм 0.5 -> 0.25"
   ]
  },
  {
   "cell_type": "markdown",
   "metadata": {},
   "source": [
    "# Спробуємо отримати кращі результати, застосуєм данні погруповані"
   ]
  },
  {
   "cell_type": "code",
   "execution_count": 69,
   "metadata": {},
   "outputs": [
    {
     "data": {
      "text/html": [
       "<div>\n",
       "<style scoped>\n",
       "    .dataframe tbody tr th:only-of-type {\n",
       "        vertical-align: middle;\n",
       "    }\n",
       "\n",
       "    .dataframe tbody tr th {\n",
       "        vertical-align: top;\n",
       "    }\n",
       "\n",
       "    .dataframe thead th {\n",
       "        text-align: right;\n",
       "    }\n",
       "</style>\n",
       "<table border=\"1\" class=\"dataframe\">\n",
       "  <thead>\n",
       "    <tr style=\"text-align: right;\">\n",
       "      <th></th>\n",
       "      <th>Int_Gender</th>\n",
       "      <th>age</th>\n",
       "      <th>hypertension</th>\n",
       "      <th>heart_disease</th>\n",
       "      <th>Int_Ever_Married</th>\n",
       "      <th>Alt_Work_type</th>\n",
       "      <th>Int_Residence_type</th>\n",
       "      <th>avg_glucose_level</th>\n",
       "      <th>bmi</th>\n",
       "      <th>Int_Smoking_status</th>\n",
       "      <th>stroke</th>\n",
       "    </tr>\n",
       "  </thead>\n",
       "  <tbody>\n",
       "    <tr>\n",
       "      <th>0</th>\n",
       "      <td>1</td>\n",
       "      <td>67.0</td>\n",
       "      <td>0</td>\n",
       "      <td>1</td>\n",
       "      <td>1</td>\n",
       "      <td>Company_worker</td>\n",
       "      <td>0</td>\n",
       "      <td>228.69</td>\n",
       "      <td>36.6</td>\n",
       "      <td>1</td>\n",
       "      <td>1</td>\n",
       "    </tr>\n",
       "    <tr>\n",
       "      <th>1</th>\n",
       "      <td>0</td>\n",
       "      <td>61.0</td>\n",
       "      <td>0</td>\n",
       "      <td>0</td>\n",
       "      <td>1</td>\n",
       "      <td>Self-employed</td>\n",
       "      <td>1</td>\n",
       "      <td>202.21</td>\n",
       "      <td>NaN</td>\n",
       "      <td>0</td>\n",
       "      <td>1</td>\n",
       "    </tr>\n",
       "    <tr>\n",
       "      <th>2</th>\n",
       "      <td>1</td>\n",
       "      <td>80.0</td>\n",
       "      <td>0</td>\n",
       "      <td>1</td>\n",
       "      <td>1</td>\n",
       "      <td>Company_worker</td>\n",
       "      <td>1</td>\n",
       "      <td>105.92</td>\n",
       "      <td>32.5</td>\n",
       "      <td>0</td>\n",
       "      <td>1</td>\n",
       "    </tr>\n",
       "    <tr>\n",
       "      <th>3</th>\n",
       "      <td>0</td>\n",
       "      <td>49.0</td>\n",
       "      <td>0</td>\n",
       "      <td>0</td>\n",
       "      <td>1</td>\n",
       "      <td>Company_worker</td>\n",
       "      <td>0</td>\n",
       "      <td>171.23</td>\n",
       "      <td>34.4</td>\n",
       "      <td>1</td>\n",
       "      <td>1</td>\n",
       "    </tr>\n",
       "    <tr>\n",
       "      <th>4</th>\n",
       "      <td>0</td>\n",
       "      <td>79.0</td>\n",
       "      <td>1</td>\n",
       "      <td>0</td>\n",
       "      <td>1</td>\n",
       "      <td>Self-employed</td>\n",
       "      <td>1</td>\n",
       "      <td>174.12</td>\n",
       "      <td>24.0</td>\n",
       "      <td>0</td>\n",
       "      <td>1</td>\n",
       "    </tr>\n",
       "    <tr>\n",
       "      <th>...</th>\n",
       "      <td>...</td>\n",
       "      <td>...</td>\n",
       "      <td>...</td>\n",
       "      <td>...</td>\n",
       "      <td>...</td>\n",
       "      <td>...</td>\n",
       "      <td>...</td>\n",
       "      <td>...</td>\n",
       "      <td>...</td>\n",
       "      <td>...</td>\n",
       "      <td>...</td>\n",
       "    </tr>\n",
       "    <tr>\n",
       "      <th>5105</th>\n",
       "      <td>0</td>\n",
       "      <td>80.0</td>\n",
       "      <td>1</td>\n",
       "      <td>0</td>\n",
       "      <td>1</td>\n",
       "      <td>Company_worker</td>\n",
       "      <td>0</td>\n",
       "      <td>83.75</td>\n",
       "      <td>NaN</td>\n",
       "      <td>0</td>\n",
       "      <td>0</td>\n",
       "    </tr>\n",
       "    <tr>\n",
       "      <th>5106</th>\n",
       "      <td>0</td>\n",
       "      <td>81.0</td>\n",
       "      <td>0</td>\n",
       "      <td>0</td>\n",
       "      <td>1</td>\n",
       "      <td>Self-employed</td>\n",
       "      <td>0</td>\n",
       "      <td>125.20</td>\n",
       "      <td>40.0</td>\n",
       "      <td>0</td>\n",
       "      <td>0</td>\n",
       "    </tr>\n",
       "    <tr>\n",
       "      <th>5107</th>\n",
       "      <td>0</td>\n",
       "      <td>35.0</td>\n",
       "      <td>0</td>\n",
       "      <td>0</td>\n",
       "      <td>1</td>\n",
       "      <td>Self-employed</td>\n",
       "      <td>1</td>\n",
       "      <td>82.99</td>\n",
       "      <td>30.6</td>\n",
       "      <td>0</td>\n",
       "      <td>0</td>\n",
       "    </tr>\n",
       "    <tr>\n",
       "      <th>5108</th>\n",
       "      <td>1</td>\n",
       "      <td>51.0</td>\n",
       "      <td>0</td>\n",
       "      <td>0</td>\n",
       "      <td>1</td>\n",
       "      <td>Company_worker</td>\n",
       "      <td>1</td>\n",
       "      <td>166.29</td>\n",
       "      <td>25.6</td>\n",
       "      <td>1</td>\n",
       "      <td>0</td>\n",
       "    </tr>\n",
       "    <tr>\n",
       "      <th>5109</th>\n",
       "      <td>0</td>\n",
       "      <td>44.0</td>\n",
       "      <td>0</td>\n",
       "      <td>0</td>\n",
       "      <td>1</td>\n",
       "      <td>Company_worker</td>\n",
       "      <td>0</td>\n",
       "      <td>85.28</td>\n",
       "      <td>26.2</td>\n",
       "      <td>0</td>\n",
       "      <td>0</td>\n",
       "    </tr>\n",
       "  </tbody>\n",
       "</table>\n",
       "<p>5110 rows × 11 columns</p>\n",
       "</div>"
      ],
      "text/plain": [
       "      Int_Gender   age  hypertension  heart_disease  Int_Ever_Married  \\\n",
       "0              1  67.0             0              1                 1   \n",
       "1              0  61.0             0              0                 1   \n",
       "2              1  80.0             0              1                 1   \n",
       "3              0  49.0             0              0                 1   \n",
       "4              0  79.0             1              0                 1   \n",
       "...          ...   ...           ...            ...               ...   \n",
       "5105           0  80.0             1              0                 1   \n",
       "5106           0  81.0             0              0                 1   \n",
       "5107           0  35.0             0              0                 1   \n",
       "5108           1  51.0             0              0                 1   \n",
       "5109           0  44.0             0              0                 1   \n",
       "\n",
       "       Alt_Work_type  Int_Residence_type  avg_glucose_level   bmi  \\\n",
       "0     Company_worker                   0             228.69  36.6   \n",
       "1      Self-employed                   1             202.21   NaN   \n",
       "2     Company_worker                   1             105.92  32.5   \n",
       "3     Company_worker                   0             171.23  34.4   \n",
       "4      Self-employed                   1             174.12  24.0   \n",
       "...              ...                 ...                ...   ...   \n",
       "5105  Company_worker                   0              83.75   NaN   \n",
       "5106   Self-employed                   0             125.20  40.0   \n",
       "5107   Self-employed                   1              82.99  30.6   \n",
       "5108  Company_worker                   1             166.29  25.6   \n",
       "5109  Company_worker                   0              85.28  26.2   \n",
       "\n",
       "      Int_Smoking_status  stroke  \n",
       "0                      1       1  \n",
       "1                      0       1  \n",
       "2                      0       1  \n",
       "3                      1       1  \n",
       "4                      0       1  \n",
       "...                  ...     ...  \n",
       "5105                   0       0  \n",
       "5106                   0       0  \n",
       "5107                   0       0  \n",
       "5108                   1       0  \n",
       "5109                   0       0  \n",
       "\n",
       "[5110 rows x 11 columns]"
      ]
     },
     "execution_count": 69,
     "metadata": {},
     "output_type": "execute_result"
    }
   ],
   "source": [
    "data_mod"
   ]
  },
  {
   "cell_type": "code",
   "execution_count": 70,
   "metadata": {},
   "outputs": [
    {
     "data": {
      "text/plain": [
       "0"
      ]
     },
     "execution_count": 70,
     "metadata": {},
     "output_type": "execute_result"
    }
   ],
   "source": [
    "data_mod['bmi'].fillna(data_mod['bmi'].median(), inplace = True)\n",
    "data_mod['bmi'].isna().sum()"
   ]
  },
  {
   "cell_type": "code",
   "execution_count": 71,
   "metadata": {},
   "outputs": [],
   "source": [
    "# from sklearn.utils import resample\n",
    "\n",
    "# train_data, test_data = train_test_split(data_mod, test_size=0.20, random_state=20,\n",
    "#                                          stratify=data_mod['stroke'])\n",
    "\n",
    "# X_test = test_data.drop(['stroke'], axis=1)\n",
    "# y_test = test_data['stroke']\n",
    "\n",
    "# fraud_df = train_data.loc[train_data['stroke'] == 1]\n",
    "# non_fraud_df = train_data.loc[train_data['stroke'] == 0]\n",
    "\n",
    "# fraud_upsampled = resample(fraud_df,\n",
    "#                            replace=True, # sample with replacement\n",
    "#                            n_samples=len(non_fraud_df), # match number in majority class\n",
    "#                            random_state=27)\n",
    "\n",
    "# new_train_data = pd.concat([non_fraud_df, fraud_upsampled])\n",
    "\n",
    "# X_train = new_train_data.drop(['stroke'], axis=1)\n",
    "# y_train = new_train_data['stroke']\n",
    "\n",
    "# print('Shape of train data = ', X_train.shape)\n",
    "# print('Shape of test data = ', X_test.shape)\n",
    "\n",
    "# train_unique_label, train_counts_label = np.unique(y_train, return_counts=True)\n",
    "# test_unique_label, test_counts_label = np.unique(y_test, return_counts=True)\n",
    "\n",
    "# print('Label Distributions: \\n')\n",
    "# print(train_counts_label/ len(y_train))\n",
    "# print(test_counts_label/ len(y_test))"
   ]
  },
  {
   "cell_type": "code",
   "execution_count": 72,
   "metadata": {},
   "outputs": [
    {
     "data": {
      "text/plain": [
       "(498, 11)"
      ]
     },
     "execution_count": 72,
     "metadata": {},
     "output_type": "execute_result"
    }
   ],
   "source": [
    "data_mod = data_mod.sample(frac=1)\n",
    "\n",
    "fraud_data_mod = data_mod.loc[data_mod['stroke'] == 1]\n",
    "non_fraud_data_mod = data_mod.loc[data_mod['stroke'] == 0][:len(fraud_data_mod)]\n",
    "\n",
    "normal_distributed_data_mod = pd.concat([fraud_data_mod, non_fraud_data_mod])\n",
    "new_data_mod = normal_distributed_data_mod.sample(frac=1, random_state=42)\n",
    "\n",
    "new_data_mod.shape"
   ]
  },
  {
   "cell_type": "code",
   "execution_count": 73,
   "metadata": {},
   "outputs": [
    {
     "name": "stdout",
     "output_type": "stream",
     "text": [
      "The size of training data is: 398 \n",
      "The size of testing data is: 100\n"
     ]
    }
   ],
   "source": [
    "from sklearn.model_selection import train_test_split\n",
    "\n",
    "train_data, test_data = train_test_split(new_data_mod, test_size=0.20, random_state=20)\n",
    "print('The size of training data is: {} \\nThe size of testing data is: {}'.format(len(train_data), len(test_data)))"
   ]
  },
  {
   "cell_type": "code",
   "execution_count": 74,
   "metadata": {},
   "outputs": [],
   "source": [
    "X_train = train_data.drop(['stroke'], axis=1)\n",
    "y_train = train_data['stroke']\n",
    "\n",
    "X_test = test_data.drop(['stroke'], axis=1)\n",
    "y_test = test_data['stroke']"
   ]
  },
  {
   "cell_type": "code",
   "execution_count": 75,
   "metadata": {},
   "outputs": [
    {
     "name": "stdout",
     "output_type": "stream",
     "text": [
      "['Company_worker' 'Never_worked' 'Self-employed'] == [0, 1, 2]\n",
      "0    284\n",
      "2     79\n",
      "1     35\n",
      "Name: Alt_Work_type, dtype: int64\n"
     ]
    }
   ],
   "source": [
    "#Перетворення категорійного стовпчика в цифровий за допомогою LabelEncoder()\n",
    "from sklearn import preprocessing\n",
    "\n",
    "X_train_prepared=X_train.copy()\n",
    "X_test_prepared=X_test.copy()\n",
    "\n",
    "col = ['Alt_Work_type']\n",
    "LE = preprocessing.LabelEncoder()\n",
    "for i in col:\n",
    "    X_train_prepared[i]=X_train_prepared[[i]].apply(LE.fit_transform)\n",
    "    X_test_prepared[i]=X_test_prepared[[i]].apply(LE.transform)\n",
    "    \n",
    "    print(LE.inverse_transform(list(set(X_train_prepared[i]))),'==', list(set(X_train_prepared[i]))) \n",
    "    print(X_train_prepared[i].value_counts(dropna=False)) "
   ]
  },
  {
   "cell_type": "code",
   "execution_count": 76,
   "metadata": {},
   "outputs": [],
   "source": [
    "from sklearn.preprocessing import StandardScaler\n",
    "\n",
    "scaler = StandardScaler()\n",
    "\n",
    "X_train_scaler=scaler.fit_transform(X_train_prepared)\n",
    "X_test_scaler=scaler.transform(X_test_prepared)"
   ]
  },
  {
   "cell_type": "code",
   "execution_count": 77,
   "metadata": {},
   "outputs": [],
   "source": [
    "X_train_scaler=X_train\n",
    "X_test_scaler=X_test"
   ]
  },
  {
   "cell_type": "code",
   "execution_count": 78,
   "metadata": {},
   "outputs": [],
   "source": [
    "class BinaryClassification(nn.Module):\n",
    "    def __init__(self):\n",
    "        super(BinaryClassification, self).__init__()\n",
    "        self.layer_1 = nn.Linear(11, 64)\n",
    "        self.layer_out = nn.Linear(64, 1)\n",
    "\n",
    "        self.relu = nn.ReLU()\n",
    "        self.sigmoid = nn.Sigmoid()\n",
    "\n",
    "    def forward(self, inputs):\n",
    "        x = self.relu(self.layer_1(inputs))\n",
    "        x = self.layer_out(x)\n",
    "\n",
    "        x = self.sigmoid(x)\n",
    "        return x"
   ]
  },
  {
   "cell_type": "code",
   "execution_count": 79,
   "metadata": {},
   "outputs": [
    {
     "name": "stdout",
     "output_type": "stream",
     "text": [
      "cpu\n"
     ]
    }
   ],
   "source": [
    "device = torch.device(\"cpu\")\n",
    "print(device)"
   ]
  },
  {
   "cell_type": "code",
   "execution_count": 80,
   "metadata": {},
   "outputs": [
    {
     "name": "stdout",
     "output_type": "stream",
     "text": [
      "BinaryClassification(\n",
      "  (layer_1): Linear(in_features=11, out_features=64, bias=True)\n",
      "  (layer_out): Linear(in_features=64, out_features=1, bias=True)\n",
      "  (relu): ReLU()\n",
      "  (sigmoid): Sigmoid()\n",
      ")\n"
     ]
    }
   ],
   "source": [
    "model = BinaryClassification()\n",
    "model.to(device)\n",
    "\n",
    "print(model)"
   ]
  },
  {
   "cell_type": "code",
   "execution_count": 81,
   "metadata": {},
   "outputs": [],
   "source": [
    "criterion = nn.BCELoss()\n",
    "optimizer = optim.Adam(model.parameters(), lr=0.001)"
   ]
  },
  {
   "cell_type": "code",
   "execution_count": 82,
   "metadata": {},
   "outputs": [],
   "source": [
    "def binary_acc(y_pred, y_test):\n",
    "    y_pred_tag = torch.round(y_pred)\n",
    "\n",
    "    correct_results_sum = (y_pred_tag == y_test).sum().float()\n",
    "    acc = correct_results_sum/y_test.shape[0]\n",
    "    acc = torch.round(acc * 100)\n",
    "\n",
    "    return acc"
   ]
  },
  {
   "cell_type": "code",
   "execution_count": 83,
   "metadata": {},
   "outputs": [
    {
     "ename": "ValueError",
     "evalue": "could not determine the shape of object type 'DataFrame'",
     "output_type": "error",
     "traceback": [
      "\u001b[1;31m---------------------------------------------------------------------------\u001b[0m",
      "\u001b[1;31mValueError\u001b[0m                                Traceback (most recent call last)",
      "Input \u001b[1;32mIn [83]\u001b[0m, in \u001b[0;36m<cell line: 1>\u001b[1;34m()\u001b[0m\n\u001b[1;32m----> 1\u001b[0m X_train \u001b[38;5;241m=\u001b[39m \u001b[43mtorch\u001b[49m\u001b[38;5;241;43m.\u001b[39;49m\u001b[43mFloatTensor\u001b[49m\u001b[43m(\u001b[49m\u001b[43mX_train\u001b[49m\u001b[43m)\u001b[49m\n\u001b[0;32m      2\u001b[0m y_train \u001b[38;5;241m=\u001b[39m torch\u001b[38;5;241m.\u001b[39mFloatTensor(y_train)\n\u001b[0;32m      4\u001b[0m X_train, y_train \u001b[38;5;241m=\u001b[39m X_train\u001b[38;5;241m.\u001b[39mto(device), y_train\u001b[38;5;241m.\u001b[39mto(device)\n",
      "\u001b[1;31mValueError\u001b[0m: could not determine the shape of object type 'DataFrame'"
     ]
    }
   ],
   "source": [
    "X_train = torch.FloatTensor(X_train)\n",
    "y_train = torch.FloatTensor(y_train)\n",
    "\n",
    "X_train, y_train = X_train.to(device), y_train.to(device)"
   ]
  },
  {
   "cell_type": "code",
   "execution_count": null,
   "metadata": {},
   "outputs": [],
   "source": []
  },
  {
   "cell_type": "code",
   "execution_count": null,
   "metadata": {},
   "outputs": [],
   "source": []
  },
  {
   "cell_type": "code",
   "execution_count": null,
   "metadata": {},
   "outputs": [],
   "source": []
  },
  {
   "cell_type": "code",
   "execution_count": null,
   "metadata": {},
   "outputs": [],
   "source": []
  },
  {
   "cell_type": "code",
   "execution_count": null,
   "metadata": {},
   "outputs": [],
   "source": []
  }
 ],
 "metadata": {
  "kernelspec": {
   "display_name": "Python 3",
   "language": "python",
   "name": "python3"
  },
  "language_info": {
   "codemirror_mode": {
    "name": "ipython",
    "version": 3
   },
   "file_extension": ".py",
   "mimetype": "text/x-python",
   "name": "python",
   "nbconvert_exporter": "python",
   "pygments_lexer": "ipython3",
   "version": "3.8.5"
  },
  "varInspector": {
   "cols": {
    "lenName": 16,
    "lenType": 16,
    "lenVar": 40
   },
   "kernels_config": {
    "python": {
     "delete_cmd_postfix": "",
     "delete_cmd_prefix": "del ",
     "library": "var_list.py",
     "varRefreshCmd": "print(var_dic_list())"
    },
    "r": {
     "delete_cmd_postfix": ") ",
     "delete_cmd_prefix": "rm(",
     "library": "var_list.r",
     "varRefreshCmd": "cat(var_dic_list()) "
    }
   },
   "types_to_exclude": [
    "module",
    "function",
    "builtin_function_or_method",
    "instance",
    "_Feature"
   ],
   "window_display": false
  }
 },
 "nbformat": 4,
 "nbformat_minor": 5
}
